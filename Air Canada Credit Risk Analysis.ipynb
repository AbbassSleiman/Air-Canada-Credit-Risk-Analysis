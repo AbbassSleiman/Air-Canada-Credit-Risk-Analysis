{
 "cells": [
  {
   "cell_type": "code",
   "execution_count": 2,
   "id": "0b46bc56",
   "metadata": {},
   "outputs": [
    {
     "name": "stdout",
     "output_type": "stream",
     "text": [
      "Collecting yfinance\n",
      "  Using cached yfinance-0.2.56-py2.py3-none-any.whl.metadata (5.8 kB)\n",
      "Requirement already satisfied: pandas>=1.3.0 in /opt/conda/lib/python3.11/site-packages (from yfinance) (2.1.3)\n",
      "Requirement already satisfied: numpy>=1.16.5 in /opt/conda/lib/python3.11/site-packages (from yfinance) (1.24.4)\n",
      "Requirement already satisfied: requests>=2.31 in /opt/conda/lib/python3.11/site-packages (from yfinance) (2.31.0)\n",
      "Collecting multitasking>=0.0.7 (from yfinance)\n",
      "  Using cached multitasking-0.0.11-py3-none-any.whl.metadata (5.5 kB)\n",
      "Requirement already satisfied: platformdirs>=2.0.0 in /opt/conda/lib/python3.11/site-packages (from yfinance) (4.1.0)\n",
      "Requirement already satisfied: pytz>=2022.5 in /opt/conda/lib/python3.11/site-packages (from yfinance) (2023.3.post1)\n",
      "Collecting frozendict>=2.3.4 (from yfinance)\n",
      "  Using cached frozendict-2.4.6-py311-none-any.whl.metadata (23 kB)\n",
      "Collecting peewee>=3.16.2 (from yfinance)\n",
      "  Using cached peewee-3.17.9-cp311-cp311-linux_x86_64.whl\n",
      "Requirement already satisfied: beautifulsoup4>=4.11.1 in /opt/conda/lib/python3.11/site-packages (from yfinance) (4.12.2)\n",
      "Requirement already satisfied: soupsieve>1.2 in /opt/conda/lib/python3.11/site-packages (from beautifulsoup4>=4.11.1->yfinance) (2.5)\n",
      "Requirement already satisfied: python-dateutil>=2.8.2 in /opt/conda/lib/python3.11/site-packages (from pandas>=1.3.0->yfinance) (2.8.2)\n",
      "Requirement already satisfied: tzdata>=2022.1 in /opt/conda/lib/python3.11/site-packages (from pandas>=1.3.0->yfinance) (2023.3)\n",
      "Requirement already satisfied: charset-normalizer<4,>=2 in /opt/conda/lib/python3.11/site-packages (from requests>=2.31->yfinance) (3.3.2)\n",
      "Requirement already satisfied: idna<4,>=2.5 in /opt/conda/lib/python3.11/site-packages (from requests>=2.31->yfinance) (3.6)\n",
      "Requirement already satisfied: urllib3<3,>=1.21.1 in /opt/conda/lib/python3.11/site-packages (from requests>=2.31->yfinance) (2.1.0)\n",
      "Requirement already satisfied: certifi>=2017.4.17 in /opt/conda/lib/python3.11/site-packages (from requests>=2.31->yfinance) (2023.11.17)\n",
      "Requirement already satisfied: six>=1.5 in /opt/conda/lib/python3.11/site-packages (from python-dateutil>=2.8.2->pandas>=1.3.0->yfinance) (1.16.0)\n",
      "Using cached yfinance-0.2.56-py2.py3-none-any.whl (113 kB)\n",
      "Using cached frozendict-2.4.6-py311-none-any.whl (16 kB)\n",
      "Using cached multitasking-0.0.11-py3-none-any.whl (8.5 kB)\n",
      "Installing collected packages: peewee, multitasking, frozendict, yfinance\n",
      "Successfully installed frozendict-2.4.6 multitasking-0.0.11 peewee-3.17.9 yfinance-0.2.56\n"
     ]
    }
   ],
   "source": [
    "!pip install yfinance"
   ]
  },
  {
   "cell_type": "code",
   "execution_count": 3,
   "id": "3f82a509",
   "metadata": {},
   "outputs": [
    {
     "data": {
      "text/plain": [
       "0.3522066891209901"
      ]
     },
     "execution_count": 3,
     "metadata": {},
     "output_type": "execute_result"
    }
   ],
   "source": [
    "import yfinance as yf, numpy as np, pandas as pd\n",
    "from scipy.optimize import fsolve\n",
    "from scipy.stats import norm\n",
    "import matplotlib.pyplot as plt\n",
    "\n",
    "# Import daily stock price data using adjusted closing prices\n",
    "ticker = \"AC.TO\"\n",
    "data = yf.download(\n",
    "    ticker,\n",
    "    start=\"2021-04-24\",\n",
    "    end=\"2025-04-24\",\n",
    "    auto_adjust=True,\n",
    "    progress=False\n",
    ")\n",
    "equity_prices = data['Close']\n",
    "\n",
    "# Daily volatility computation\n",
    "sigma_daily = equity_prices.pct_change().dropna().std()\n",
    "\n",
    "# Annualizing daily volatility using 252 trading days\n",
    "sigma_E = sigma_daily * np.sqrt(252)\n",
    "\n",
    "# Computation of equity market value on the last trading day before (and including) 2025-04-23\n",
    "shares_out = yf.Ticker(ticker).info['sharesOutstanding']\n",
    "E = equity_prices.iloc[-1] * shares_out\n",
    "\n",
    "# Turn values into scalars\n",
    "sigma_E = float(sigma_E.squeeze())  \n",
    "E       = float(E.squeeze())  \n",
    "sigma_E"
   ]
  },
  {
   "cell_type": "code",
   "execution_count": 4,
   "id": "8fe260a2",
   "metadata": {},
   "outputs": [
    {
     "name": "stdout",
     "output_type": "stream",
     "text": [
      "Market value of debt  D = 3.67 bn CAD\n"
     ]
    }
   ],
   "source": [
    "fx_usdcad      = 1.39        # spot FX on quote date\n",
    "\n",
    "# --- face amounts -------------------------------------------\n",
    "face_2029_cad  = 2_000_000_000      # CAD\n",
    "face_2026_usd  = 1_200_000_000      # USD\n",
    "\n",
    "D_market = face_2029_cad + face_2026_usd*fx_usdcad\n",
    "print(f\"Market value of debt  D = {D_market/1e9:.2f} bn CAD\")"
   ]
  },
  {
   "cell_type": "code",
   "execution_count": 5,
   "id": "8b56fd0f",
   "metadata": {},
   "outputs": [],
   "source": [
    "rf = 0.03"
   ]
  },
  {
   "cell_type": "code",
   "execution_count": 6,
   "id": "b9a93f00",
   "metadata": {
    "scrolled": false
   },
   "outputs": [
    {
     "name": "stdout",
     "output_type": "stream",
     "text": [
      "Optimal asset value  V*  = 8.35 bn CAD\n",
      "Optimal asset vol   σV* = 20.21%\n"
     ]
    }
   ],
   "source": [
    "# KMV Calibration\n",
    "from scipy.optimize import fsolve\n",
    "from scipy.stats   import norm\n",
    "import numpy as np\n",
    "\n",
    "def kmv_calibrate(E, sigma_E, D, r):\n",
    "    \"\"\"\n",
    "    Calibrate V* (asset value) and σV* (asset vol) at T = 1 year.\n",
    "\n",
    "    Uses log-volatility  w = log σV   so σV = exp w is always > 0.\n",
    "    \"\"\"\n",
    "    def system(x):\n",
    "        V, w = x\n",
    "        sV = np.exp(w)                 # volatility is always positive\n",
    "        if V <= D:                     # keep log well-defined\n",
    "            return (1e9, 1e9)\n",
    "\n",
    "        d1 = (np.log(V/D) + (r + 0.5*sV**2)) / sV   # T = 1\n",
    "        d2 = d1 - sV\n",
    "        eq1 = V*norm.cdf(d1) - D*np.exp(-r)*norm.cdf(d2) - E\n",
    "        eq2 = sV*V*norm.cdf(d1)        - sigma_E*E\n",
    "        return (eq1, eq2)\n",
    "\n",
    "    # Initial Guess\n",
    "    V0 = D * 1.30                      # 30 % cushion above debt\n",
    "    w0 = np.log(max(0.30, sigma_E))    # log of a reasonable σV\n",
    "    V_star, w_star = fsolve(system, (V0, w0), xtol=1e-10, maxfev=5000)\n",
    "    return V_star, np.exp(w_star)\n",
    "\n",
    "\n",
    "# 1-year Calibration\n",
    "V_star, sigma_V_star = kmv_calibrate(E, sigma_E, D_market, rf)\n",
    "\n",
    "print(f\"Optimal asset value  V*  = {V_star/1e9:,.2f} bn CAD\")\n",
    "print(f\"Optimal asset vol   σV* = {sigma_V_star:.2%}\")\n",
    "\n",
    "def kmv_pd_const(T, V=V_star, sV=sigma_V_star, D=D_market, r=rf):\n",
    "    d2 = (np.log(V/D) + (r - 0.5*sV**2)*T) / (sV*np.sqrt(T))\n",
    "    return norm.cdf(-d2)"
   ]
  },
  {
   "cell_type": "code",
   "execution_count": 7,
   "id": "637ddf8f",
   "metadata": {},
   "outputs": [
    {
     "name": "stdout",
     "output_type": "stream",
     "text": [
      "\n",
      "=== KMV cumulative PDs ===\n",
      " 1-yr :  0.00 %\n",
      " 2-yr :  0.16 %\n",
      " 3-yr :  0.75 %\n",
      " 4-yr :  1.66 %\n",
      " 5-yr :  2.70 %\n",
      " 6-yr :  3.77 %\n",
      " 7-yr :  4.80 %\n",
      " 8-yr :  5.78 %\n",
      " 9-yr :  6.69 %\n",
      "10-yr :  7.53 %\n",
      "11-yr :  8.31 %\n",
      "12-yr :  9.02 %\n",
      "13-yr :  9.68 %\n",
      "14-yr : 10.28 %\n",
      "15-yr : 10.84 %\n",
      "16-yr : 11.36 %\n",
      "17-yr : 11.84 %\n",
      "18-yr : 12.29 %\n",
      "19-yr : 12.70 %\n",
      "20-yr : 13.08 %\n"
     ]
    }
   ],
   "source": [
    "horiz      = [1,2,3,4,5,6,7,8,9,10,11,12,13,14,15,16,17,18,19,20]\n",
    "kmv_const  = {T: kmv_pd_const(T) for T in horiz}\n",
    "\n",
    "print(\"\\n=== KMV cumulative PDs ===\")\n",
    "for T in horiz:\n",
    "    print(f\"{T:>2}-yr : {kmv_const[T]*100:5.2f} %\")"
   ]
  },
  {
   "cell_type": "code",
   "execution_count": 8,
   "id": "3a30e199",
   "metadata": {},
   "outputs": [],
   "source": [
    "# Rating-based cumulative PD's\n",
    "import numpy as np, pandas as pd\n",
    "\n",
    "labels = ['AAA','AA','A','BBB','BB','B','CCC/C','D']\n",
    "M1 = pd.DataFrame([\n",
    "    # AAA  AA     A      BBB    BB     B     CCC/C   D        # ← columns\n",
    "    [87.28, 8.92, 0.51,  0.03,  0.10, 0.03, 0.05,  0.00],   # AAA  ← rows\n",
    "    [ 0.45,87.74, 7.50,  0.44,  0.05, 0.06, 0.02,  0.02],   # AA\n",
    "    [ 0.02, 1.48,89.42,  4.64,  0.23, 0.10, 0.01,  0.05],   # A\n",
    "    [ 0.00, 0.07, 3.05, 87.33,  3.21, 0.40, 0.09,  0.14],   # BBB  ← Air Canada row\n",
    "    [ 0.01, 0.02, 0.10,  4.44, 78.89, 6.25, 0.50,  0.56],   # BB\n",
    "    [ 0.00, 0.02, 0.06,  0.14,  4.47,75.18, 4.79,  2.93],   # B\n",
    "    [ 0.00, 0.00, 0.07,  0.13,  0.40,13.18,45.07, 26.12],   # CCC/C\n",
    "    [ 0.00, 0.00, 0.00,  0.00,  0.00, 0.00, 0.00,100.00]    # D  (absorbing)\n",
    "], index=labels, columns=labels) / 100   # ← same table\n",
    "\n",
    "state0 = np.zeros(len(labels));  state0[labels.index('BB')] = 1\n",
    "D_idx  = labels.index('D')\n",
    "\n",
    "cred_horiz = [1,2,3,4,5,6,7,8,9,10,11,12,13,14,15,16,17,18,19,20]\n",
    "pd_cm = {}\n",
    "for T in cred_horiz:\n",
    "    MT = np.linalg.matrix_power(M1.values, T)\n",
    "    pd_cm[T] = (state0 @ MT)[D_idx]\n"
   ]
  },
  {
   "cell_type": "code",
   "execution_count": 9,
   "id": "4144a762",
   "metadata": {},
   "outputs": [
    {
     "data": {
      "image/png": "[encoded data removed]",
      "text/plain": [
       "<Figure size 600x400 with 1 Axes>"
      ]
     },
     "metadata": {},
     "output_type": "display_data"
    }
   ],
   "source": [
    "# AC Default Plots\n",
    "import matplotlib.pyplot as plt, numpy as np\n",
    "\n",
    "cm_x  = cred_horiz\n",
    "cm_y  = np.array([pd_cm[t] for t in cm_x]) * 100\n",
    "kmv_x = horiz\n",
    "kmv_y = np.array([kmv_const[t] for t in kmv_x]) * 100\n",
    "\n",
    "plt.figure(figsize=(6,4))\n",
    "plt.plot(kmv_x, kmv_y, lw=2, label='Merton/KMV')\n",
    "plt.plot(cm_x , cm_y , lw=2, label='CreditMetrics BB')\n",
    "\n",
    "plt.xlim(left=1)               # ← start the x-axis at 1 year\n",
    "plt.xticks(kmv_x)              # optional: integer tick labels only\n",
    "\n",
    "plt.xlabel('Horizon (years)')\n",
    "plt.ylabel('Probability of Default (%)')\n",
    "plt.title('Air Canada – Probability of Default Curves')\n",
    "plt.grid(alpha=.3)\n",
    "plt.legend()\n",
    "plt.tight_layout()\n",
    "plt.show()\n"
   ]
  },
  {
   "cell_type": "code",
   "execution_count": 10,
   "id": "ea65b5e6",
   "metadata": {},
   "outputs": [
    {
     "name": "stdout",
     "output_type": "stream",
     "text": [
      "\n",
      "=== KMV-model inputs ===\n"
     ]
    },
    {
     "data": {
      "text/html": [
       "<style type=\"text/css\">\n",
       "</style>\n",
       "<table id=\"T_b31e3\">\n",
       "  <thead>\n",
       "    <tr>\n",
       "      <th class=\"blank level0\" >&nbsp;</th>\n",
       "      <th id=\"T_b31e3_level0_col0\" class=\"col_heading level0 col0\" >value</th>\n",
       "      <th id=\"T_b31e3_level0_col1\" class=\"col_heading level0 col1\" >fmt</th>\n",
       "    </tr>\n",
       "  </thead>\n",
       "  <tbody>\n",
       "    <tr>\n",
       "      <th id=\"T_b31e3_level0_row0\" class=\"row_heading level0 row0\" >S (equity)</th>\n",
       "      <td id=\"T_b31e3_row0_col0\" class=\"data row0 col0\" >4.79</td>\n",
       "      <td id=\"T_b31e3_row0_col1\" class=\"data row0 col1\" >bn CAD</td>\n",
       "    </tr>\n",
       "    <tr>\n",
       "      <th id=\"T_b31e3_level0_row1\" class=\"row_heading level0 row1\" >σS</th>\n",
       "      <td id=\"T_b31e3_row1_col0\" class=\"data row1 col0\" >35.22</td>\n",
       "      <td id=\"T_b31e3_row1_col1\" class=\"data row1 col1\" >%</td>\n",
       "    </tr>\n",
       "    <tr>\n",
       "      <th id=\"T_b31e3_level0_row2\" class=\"row_heading level0 row2\" >σA</th>\n",
       "      <td id=\"T_b31e3_row2_col0\" class=\"data row2 col0\" >20.21</td>\n",
       "      <td id=\"T_b31e3_row2_col1\" class=\"data row2 col1\" >%</td>\n",
       "    </tr>\n",
       "    <tr>\n",
       "      <th id=\"T_b31e3_level0_row3\" class=\"row_heading level0 row3\" >D (market)</th>\n",
       "      <td id=\"T_b31e3_row3_col0\" class=\"data row3 col0\" >3.67</td>\n",
       "      <td id=\"T_b31e3_row3_col1\" class=\"data row3 col1\" >bn CAD</td>\n",
       "    </tr>\n",
       "    <tr>\n",
       "      <th id=\"T_b31e3_level0_row4\" class=\"row_heading level0 row4\" >Leverage D/V*</th>\n",
       "      <td id=\"T_b31e3_row4_col0\" class=\"data row4 col0\" >0.44</td>\n",
       "      <td id=\"T_b31e3_row4_col1\" class=\"data row4 col1\" >×</td>\n",
       "    </tr>\n",
       "  </tbody>\n",
       "</table>\n"
      ],
      "text/plain": [
       "<pandas.io.formats.style.Styler at 0x7f9d16b47dd0>"
      ]
     },
     "metadata": {},
     "output_type": "display_data"
    },
    {
     "name": "stdout",
     "output_type": "stream",
     "text": [
      "\n",
      "=== 1-year rating transition matrix (S&P 1981-2024) ===\n"
     ]
    },
    {
     "data": {
      "text/html": [
       "<style type=\"text/css\">\n",
       "</style>\n",
       "<table id=\"T_3bca8\">\n",
       "  <thead>\n",
       "    <tr>\n",
       "      <th class=\"blank level0\" >&nbsp;</th>\n",
       "      <th id=\"T_3bca8_level0_col0\" class=\"col_heading level0 col0\" >AAA</th>\n",
       "      <th id=\"T_3bca8_level0_col1\" class=\"col_heading level0 col1\" >AA</th>\n",
       "      <th id=\"T_3bca8_level0_col2\" class=\"col_heading level0 col2\" >A</th>\n",
       "      <th id=\"T_3bca8_level0_col3\" class=\"col_heading level0 col3\" >BBB</th>\n",
       "      <th id=\"T_3bca8_level0_col4\" class=\"col_heading level0 col4\" >BB</th>\n",
       "      <th id=\"T_3bca8_level0_col5\" class=\"col_heading level0 col5\" >B</th>\n",
       "      <th id=\"T_3bca8_level0_col6\" class=\"col_heading level0 col6\" >CCC/C</th>\n",
       "      <th id=\"T_3bca8_level0_col7\" class=\"col_heading level0 col7\" >D</th>\n",
       "    </tr>\n",
       "  </thead>\n",
       "  <tbody>\n",
       "    <tr>\n",
       "      <th id=\"T_3bca8_level0_row0\" class=\"row_heading level0 row0\" >AAA</th>\n",
       "      <td id=\"T_3bca8_row0_col0\" class=\"data row0 col0\" >87.28 %</td>\n",
       "      <td id=\"T_3bca8_row0_col1\" class=\"data row0 col1\" >8.92 %</td>\n",
       "      <td id=\"T_3bca8_row0_col2\" class=\"data row0 col2\" >0.51 %</td>\n",
       "      <td id=\"T_3bca8_row0_col3\" class=\"data row0 col3\" >0.03 %</td>\n",
       "      <td id=\"T_3bca8_row0_col4\" class=\"data row0 col4\" >0.10 %</td>\n",
       "      <td id=\"T_3bca8_row0_col5\" class=\"data row0 col5\" >0.03 %</td>\n",
       "      <td id=\"T_3bca8_row0_col6\" class=\"data row0 col6\" >0.05 %</td>\n",
       "      <td id=\"T_3bca8_row0_col7\" class=\"data row0 col7\" >0.00 %</td>\n",
       "    </tr>\n",
       "    <tr>\n",
       "      <th id=\"T_3bca8_level0_row1\" class=\"row_heading level0 row1\" >AA</th>\n",
       "      <td id=\"T_3bca8_row1_col0\" class=\"data row1 col0\" >0.45 %</td>\n",
       "      <td id=\"T_3bca8_row1_col1\" class=\"data row1 col1\" >87.74 %</td>\n",
       "      <td id=\"T_3bca8_row1_col2\" class=\"data row1 col2\" >7.50 %</td>\n",
       "      <td id=\"T_3bca8_row1_col3\" class=\"data row1 col3\" >0.44 %</td>\n",
       "      <td id=\"T_3bca8_row1_col4\" class=\"data row1 col4\" >0.05 %</td>\n",
       "      <td id=\"T_3bca8_row1_col5\" class=\"data row1 col5\" >0.06 %</td>\n",
       "      <td id=\"T_3bca8_row1_col6\" class=\"data row1 col6\" >0.02 %</td>\n",
       "      <td id=\"T_3bca8_row1_col7\" class=\"data row1 col7\" >0.02 %</td>\n",
       "    </tr>\n",
       "    <tr>\n",
       "      <th id=\"T_3bca8_level0_row2\" class=\"row_heading level0 row2\" >A</th>\n",
       "      <td id=\"T_3bca8_row2_col0\" class=\"data row2 col0\" >0.02 %</td>\n",
       "      <td id=\"T_3bca8_row2_col1\" class=\"data row2 col1\" >1.48 %</td>\n",
       "      <td id=\"T_3bca8_row2_col2\" class=\"data row2 col2\" >89.42 %</td>\n",
       "      <td id=\"T_3bca8_row2_col3\" class=\"data row2 col3\" >4.64 %</td>\n",
       "      <td id=\"T_3bca8_row2_col4\" class=\"data row2 col4\" >0.23 %</td>\n",
       "      <td id=\"T_3bca8_row2_col5\" class=\"data row2 col5\" >0.10 %</td>\n",
       "      <td id=\"T_3bca8_row2_col6\" class=\"data row2 col6\" >0.01 %</td>\n",
       "      <td id=\"T_3bca8_row2_col7\" class=\"data row2 col7\" >0.05 %</td>\n",
       "    </tr>\n",
       "    <tr>\n",
       "      <th id=\"T_3bca8_level0_row3\" class=\"row_heading level0 row3\" >BBB</th>\n",
       "      <td id=\"T_3bca8_row3_col0\" class=\"data row3 col0\" >0.00 %</td>\n",
       "      <td id=\"T_3bca8_row3_col1\" class=\"data row3 col1\" >0.07 %</td>\n",
       "      <td id=\"T_3bca8_row3_col2\" class=\"data row3 col2\" >3.05 %</td>\n",
       "      <td id=\"T_3bca8_row3_col3\" class=\"data row3 col3\" >87.33 %</td>\n",
       "      <td id=\"T_3bca8_row3_col4\" class=\"data row3 col4\" >3.21 %</td>\n",
       "      <td id=\"T_3bca8_row3_col5\" class=\"data row3 col5\" >0.40 %</td>\n",
       "      <td id=\"T_3bca8_row3_col6\" class=\"data row3 col6\" >0.09 %</td>\n",
       "      <td id=\"T_3bca8_row3_col7\" class=\"data row3 col7\" >0.14 %</td>\n",
       "    </tr>\n",
       "    <tr>\n",
       "      <th id=\"T_3bca8_level0_row4\" class=\"row_heading level0 row4\" >BB</th>\n",
       "      <td id=\"T_3bca8_row4_col0\" class=\"data row4 col0\" >0.01 %</td>\n",
       "      <td id=\"T_3bca8_row4_col1\" class=\"data row4 col1\" >0.02 %</td>\n",
       "      <td id=\"T_3bca8_row4_col2\" class=\"data row4 col2\" >0.10 %</td>\n",
       "      <td id=\"T_3bca8_row4_col3\" class=\"data row4 col3\" >4.44 %</td>\n",
       "      <td id=\"T_3bca8_row4_col4\" class=\"data row4 col4\" >78.89 %</td>\n",
       "      <td id=\"T_3bca8_row4_col5\" class=\"data row4 col5\" >6.25 %</td>\n",
       "      <td id=\"T_3bca8_row4_col6\" class=\"data row4 col6\" >0.50 %</td>\n",
       "      <td id=\"T_3bca8_row4_col7\" class=\"data row4 col7\" >0.56 %</td>\n",
       "    </tr>\n",
       "    <tr>\n",
       "      <th id=\"T_3bca8_level0_row5\" class=\"row_heading level0 row5\" >B</th>\n",
       "      <td id=\"T_3bca8_row5_col0\" class=\"data row5 col0\" >0.00 %</td>\n",
       "      <td id=\"T_3bca8_row5_col1\" class=\"data row5 col1\" >0.02 %</td>\n",
       "      <td id=\"T_3bca8_row5_col2\" class=\"data row5 col2\" >0.06 %</td>\n",
       "      <td id=\"T_3bca8_row5_col3\" class=\"data row5 col3\" >0.14 %</td>\n",
       "      <td id=\"T_3bca8_row5_col4\" class=\"data row5 col4\" >4.47 %</td>\n",
       "      <td id=\"T_3bca8_row5_col5\" class=\"data row5 col5\" >75.18 %</td>\n",
       "      <td id=\"T_3bca8_row5_col6\" class=\"data row5 col6\" >4.79 %</td>\n",
       "      <td id=\"T_3bca8_row5_col7\" class=\"data row5 col7\" >2.93 %</td>\n",
       "    </tr>\n",
       "    <tr>\n",
       "      <th id=\"T_3bca8_level0_row6\" class=\"row_heading level0 row6\" >CCC/C</th>\n",
       "      <td id=\"T_3bca8_row6_col0\" class=\"data row6 col0\" >0.00 %</td>\n",
       "      <td id=\"T_3bca8_row6_col1\" class=\"data row6 col1\" >0.00 %</td>\n",
       "      <td id=\"T_3bca8_row6_col2\" class=\"data row6 col2\" >0.07 %</td>\n",
       "      <td id=\"T_3bca8_row6_col3\" class=\"data row6 col3\" >0.13 %</td>\n",
       "      <td id=\"T_3bca8_row6_col4\" class=\"data row6 col4\" >0.40 %</td>\n",
       "      <td id=\"T_3bca8_row6_col5\" class=\"data row6 col5\" >13.18 %</td>\n",
       "      <td id=\"T_3bca8_row6_col6\" class=\"data row6 col6\" >45.07 %</td>\n",
       "      <td id=\"T_3bca8_row6_col7\" class=\"data row6 col7\" >26.12 %</td>\n",
       "    </tr>\n",
       "    <tr>\n",
       "      <th id=\"T_3bca8_level0_row7\" class=\"row_heading level0 row7\" >D</th>\n",
       "      <td id=\"T_3bca8_row7_col0\" class=\"data row7 col0\" >0.00 %</td>\n",
       "      <td id=\"T_3bca8_row7_col1\" class=\"data row7 col1\" >0.00 %</td>\n",
       "      <td id=\"T_3bca8_row7_col2\" class=\"data row7 col2\" >0.00 %</td>\n",
       "      <td id=\"T_3bca8_row7_col3\" class=\"data row7 col3\" >0.00 %</td>\n",
       "      <td id=\"T_3bca8_row7_col4\" class=\"data row7 col4\" >0.00 %</td>\n",
       "      <td id=\"T_3bca8_row7_col5\" class=\"data row7 col5\" >0.00 %</td>\n",
       "      <td id=\"T_3bca8_row7_col6\" class=\"data row7 col6\" >0.00 %</td>\n",
       "      <td id=\"T_3bca8_row7_col7\" class=\"data row7 col7\" >100.00 %</td>\n",
       "    </tr>\n",
       "  </tbody>\n",
       "</table>\n"
      ],
      "text/plain": [
       "<pandas.io.formats.style.Styler at 0x7f9d7c23e6d0>"
      ]
     },
     "metadata": {},
     "output_type": "display_data"
    }
   ],
   "source": [
    "# KMV Inputs and Transition Matrix\n",
    "import pandas as pd, numpy as np\n",
    "from IPython.display import display\n",
    "\n",
    "kmv_inputs = pd.DataFrame({\n",
    "    'value': [E, sigma_E, sigma_V_star, D_market, D_market/V_star],\n",
    "    'fmt'  : ['bn CAD','%','%','bn CAD','×']\n",
    "}, index=['S (equity)','σS','σA','D (market)','Leverage D/V*'])\n",
    "\n",
    "kmv_inputs.loc['S (equity)', 'value']  /= 1e9\n",
    "kmv_inputs.loc['D (market)', 'value']  /= 1e9\n",
    "kmv_inputs.loc[['σS','σA'],'value']    *= 100\n",
    "\n",
    "print(\"\\n=== KMV-model inputs ===\")\n",
    "display(kmv_inputs.style.format({'value':'{:.2f}'}))\n",
    "\n",
    "print(\"\\n=== 1-year rating transition matrix (S&P 1981-2024) ===\")\n",
    "display((M1*100).style.format('{:.2f} %'))\n"
   ]
  },
  {
   "cell_type": "code",
   "execution_count": 11,
   "id": "e676aad7",
   "metadata": {
    "scrolled": false
   },
   "outputs": [
    {
     "data": {
      "image/png": "[encoded data removed]",
      "text/plain": [
       "<Figure size 700x400 with 1 Axes>"
      ]
     },
     "metadata": {},
     "output_type": "display_data"
    }
   ],
   "source": [
    "# AC Credit Spread Plot\n",
    "import pandas as pd, numpy as np, datetime as dt, matplotlib.pyplot as plt\n",
    "\n",
    "bond_data = pd.DataFrame({\n",
    "    'mat_date': pd.to_datetime([dt.date(2026,8,15), dt.date(2029,8,15)]),\n",
    "    'ytm_%'   : [3.875, 4.625]\n",
    "})\n",
    "bond_data['years'] = (bond_data['mat_date']\n",
    "                     - pd.Timestamp.today().normalize()).dt.days / 365.25\n",
    "\n",
    "goc_curve = pd.Series({2:2.62,3:2.65,5:2.84,7:3.02,10:3.23,20:3.55})\n",
    "\n",
    "bond_data['goc_%'] = np.interp(bond_data['years'],\n",
    "                               goc_curve.index, goc_curve.values)\n",
    "\n",
    "sprd_bp   = (bond_data['ytm_%'].iloc[-1] - bond_data['goc_%'].iloc[-1]) * 100\n",
    "extra_yrs = [7,10,15,20]\n",
    "extra     = pd.DataFrame({'years':extra_yrs})\n",
    "extra['goc_%'] = np.interp(extra['years'], goc_curve.index, goc_curve.values)\n",
    "extra['ytm_%'] = extra['goc_%'] + sprd_bp/100\n",
    "\n",
    "bond_long = pd.concat([bond_data, extra], ignore_index=True).sort_values('years')\n",
    "\n",
    "plt.figure(figsize=(7,4))\n",
    "plt.plot(bond_long['years'], bond_long['ytm_%'], lw=2, label='AC Yield')\n",
    "plt.plot(goc_curve.index, goc_curve.values,   lw=2, label='BoC Yield')\n",
    "plt.xlabel('Years to maturity'); plt.ylabel('Yield (%)')\n",
    "plt.title('Air Canada Bond Curve vs BoC Yields (23-Apr-2025)')\n",
    "plt.grid(alpha=.3); plt.legend(); plt.tight_layout(); plt.show()\n"
   ]
  },
  {
   "cell_type": "code",
   "execution_count": 12,
   "id": "1cf14c80",
   "metadata": {},
   "outputs": [
    {
     "name": "stdout",
     "output_type": "stream",
     "text": [
      "\n",
      "Per-bond spreads (bps):\n",
      "  mat_date  ytm_%    goc_%  spread_bp\n",
      "2026-08-15  3.875 2.620000 125.500000\n",
      "2029-08-15  4.675 2.774651 190.034908\n",
      "\n",
      "→ Using the 51-month bond spread of 190.0 bps for all longer tenors.\n"
     ]
    }
   ],
   "source": [
    "import pandas as pd\n",
    "import numpy as np\n",
    "import datetime as dt\n",
    "\n",
    "# The two AC Bond YTM's (estimated)\n",
    "bond_data = pd.DataFrame({\n",
    "    'mat_date': pd.to_datetime([dt.date(2026,8,15), dt.date(2029,8,15)]),\n",
    "    'ytm_%'   : [3.875, 4.675]\n",
    "})\n",
    "bond_data['years'] = (bond_data['mat_date'] - pd.Timestamp('2025-04-23')).dt.days / 365.25\n",
    "\n",
    "# BoC yield curve\n",
    "goc_curve = pd.Series({2:2.62, 3:2.65, 5:2.84, 7:3.02, 10:3.23, 20:3.55})\n",
    "\n",
    "# BoC interpolated yields\n",
    "bond_data['goc_%'] = np.interp(bond_data['years'],\n",
    "                               goc_curve.index, goc_curve.values)\n",
    "\n",
    "# Credit spread computation in bps\n",
    "bond_data['spread_bp'] = (bond_data['ytm_%'] - bond_data['goc_%']) * 100\n",
    "\n",
    "# Select longest-dated bond spread\n",
    "longest = bond_data['years'].idxmax()\n",
    "spread_used = bond_data.loc[longest, 'spread_bp']\n",
    "\n",
    "print(\"\\nPer-bond spreads (bps):\")\n",
    "print(bond_data[['mat_date','ytm_%','goc_%','spread_bp']].to_string(index=False))\n",
    "print(f\"\\n→ Using the {int(bond_data.loc[longest,'years']*12)}-month bond spread of {spread_used:.1f} bps for all longer tenors.\")\n"
   ]
  },
  {
   "cell_type": "code",
   "execution_count": null,
   "id": "71655f43",
   "metadata": {},
   "outputs": [],
   "source": []
  }
 ],
 "metadata": {
  "kernelspec": {
   "display_name": "Python 3 (ipykernel)",
   "language": "python",
   "name": "python3"
  },
  "language_info": {
   "codemirror_mode": {
    "name": "ipython",
    "version": 3
   },
   "file_extension": ".py",
   "mimetype": "text/x-python",
   "name": "python",
   "nbconvert_exporter": "python",
   "pygments_lexer": "ipython3",
   "version": "3.11.6"
  }
 },
 "nbformat": 4,
 "nbformat_minor": 5
}
